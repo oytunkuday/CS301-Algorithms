{
  "nbformat": 4,
  "nbformat_minor": 0,
  "metadata": {
    "colab": {
      "provenance": []
    },
    "kernelspec": {
      "name": "python3",
      "display_name": "Python 3"
    },
    "language_info": {
      "name": "python"
    }
  },
  "cells": [
    {
      "cell_type": "markdown",
      "source": [
        "# **CS 301 Assigment 4 Implementation and Benchmark Part**"
      ],
      "metadata": {
        "id": "lbR-yeckN90i"
      }
    },
    {
      "cell_type": "markdown",
      "source": [
        "# **Oytun Kuday Duran  -  28357**"
      ],
      "metadata": {
        "id": "7gvhTGKvN9sc"
      }
    },
    {
      "cell_type": "markdown",
      "source": [
        "IMPORTING DEPENDENCIES\n",
        "\n"
      ],
      "metadata": {
        "id": "866i-IOERHFt"
      }
    },
    {
      "cell_type": "code",
      "execution_count": 324,
      "metadata": {
        "id": "7BKW-lsbwUhQ"
      },
      "outputs": [],
      "source": [
        "import numpy as np\n",
        "import matplotlib.pyplot as plt\n",
        "import time\n",
        "from statistics import mean\n",
        "from statistics import pstdev"
      ]
    },
    {
      "cell_type": "markdown",
      "source": [
        "(a) PYTHON IMPLEMENTATION OF MY ALGORITHM"
      ],
      "metadata": {
        "id": "9I2P5_cJRN-M"
      }
    },
    {
      "cell_type": "code",
      "source": [
        "def weed_removal_and_path(farm):\n",
        "    path = []\n",
        "    if farm is None or not isinstance(farm,np.ndarray) or farm.size <= 0:\n",
        "      print(\"Warning, wrong input\")\n",
        "      return path\n",
        "    else:\n",
        "      n, m = farm.shape\n",
        "    weed_removal_matrix = np.zeros((n, m))\n",
        "    weed_removal_matrix[0, 0] = farm[0, 0]\n",
        "    for i in range(1, n):\n",
        "        weed_removal_matrix[i, 0] = weed_removal_matrix[i-1, 0] + farm[i, 0]\n",
        "    for j in range(1, m):\n",
        "        weed_removal_matrix[0, j] = weed_removal_matrix[0, j-1] + farm[0, j]\n",
        "    for i in range(1, n):\n",
        "        for j in range(1, m):\n",
        "            weed_removal_matrix[i, j] = max(weed_removal_matrix[i-1, j], weed_removal_matrix[i, j-1]) + farm[i, j]\n",
        "    \n",
        "    i, j = n - 1, m - 1\n",
        "    while i >= 0 and j >= 0:\n",
        "        path.insert(0,(i + 1, j + 1))\n",
        "        if i == 0:\n",
        "            j -= 1\n",
        "        elif j == 0:\n",
        "            i -= 1\n",
        "        else:\n",
        "            if weed_removal_matrix[i - 1, j] > weed_removal_matrix[i, j - 1]:\n",
        "                i -= 1\n",
        "            else:\n",
        "                j -= 1\n",
        "    return path"
      ],
      "metadata": {
        "id": "vi3LB_DCw74o"
      },
      "execution_count": 325,
      "outputs": []
    },
    {
      "cell_type": "markdown",
      "source": [
        "(b) FUNCTIONAL TESTING\n",
        "\n",
        "( runtimetest9 has %100 statement,decision and branch coverage )"
      ],
      "metadata": {
        "id": "78q-eoEDPUIF"
      }
    },
    {
      "cell_type": "code",
      "source": [
        "weed_removal_and_path(1)"
      ],
      "metadata": {
        "colab": {
          "base_uri": "https://localhost:8080/"
        },
        "id": "7QgYa5m9hjvP",
        "outputId": "5be3d639-0398-4eb6-984e-8d0c9370aac1"
      },
      "execution_count": 326,
      "outputs": [
        {
          "output_type": "stream",
          "name": "stdout",
          "text": [
            "Warning, wrong input\n"
          ]
        },
        {
          "output_type": "execute_result",
          "data": {
            "text/plain": [
              "[]"
            ]
          },
          "metadata": {},
          "execution_count": 326
        }
      ]
    },
    {
      "cell_type": "code",
      "source": [
        "#empty array\n",
        "runtimetest0 = np.array([])\n",
        "\n",
        "#empty matrix\n",
        "runtimetest1 = np.array([[]])\n",
        "\n",
        "#matrix of only 1 size\n",
        "runtimetest2 = np.array([[0]])\n",
        "\n",
        "#no weed\n",
        "runtimetest3 = np.array(    [[0,0,0,0,0,0],\n",
        "                  [0,0,0,0,0,0],\n",
        "                  [0,0,0,0,0,0],\n",
        "                  [0,0,0,0,0,0],\n",
        "                  [0,0,0,0,0,0],\n",
        "                  [0,0,0,0,0,0]])\n",
        "#all weeds\n",
        "runtimetest4 = np.array([[1,1,1,1,1,1],\n",
        "                  [1,1,1,1,1,1],\n",
        "                  [1,1,1,1,1,1],\n",
        "                  [1,1,1,1,1,1],\n",
        "                  [1,1,1,1,1,1],\n",
        "                  [1,1,1,1,1,1]])\n",
        "\n",
        "#random weeds on some spots on medium array\n",
        "runtimetest5 = np.random.randint(2,size=(6,6)) \n",
        "\n",
        "#all weeds on sides.\n",
        "runtimetest6= np.array([[1,1,1],[0,0,1],[0,0,1]])\n",
        "\n",
        "#opposite case\n",
        "runtimetest7= np.array([[1,0,0],[1,0,0],[1,1,1]])\n",
        "\n",
        "#no weed in sides\n",
        "runtimetest8= np.array([[0,0,0],[0,1,0],[0,0,0]])\n",
        "\n",
        "#coverage\n",
        "runtimetest9 = np.array(    [[1,1,0,0,0,0],\n",
        "                  [1,0,1,1,1,1],\n",
        "                  [1,0,0,1,0,0],\n",
        "                  [0,1,0,0,1,0],\n",
        "                  [0,0,0,1,1,0],\n",
        "                  [0,1,0,0,0,1]])\n",
        "\n",
        "#random weeds on random spots on very large array\n",
        "runtimetest10 = np.random.randint(2,size=(100,100)) \n",
        "\n",
        "#Multiple optimal paths\n",
        "runtimetest11 = np.array(    [[1,0,0,0,0,0],\n",
        "                  [0,1,0,0,0,0],\n",
        "                  [1,0,0,1,0,0],\n",
        "                  [0,1,0,0,1,0],\n",
        "                  [0,0,0,1,1,0],\n",
        "                  [0,0,0,0,0,1]])\n",
        "\n",
        "tests = [runtimetest0,runtimetest1,runtimetest2,runtimetest3,runtimetest4,runtimetest5,runtimetest6,runtimetest7,runtimetest8,runtimetest9,runtimetest10,runtimetest11]\n",
        "\n",
        "\n",
        "for a in range(len(tests)):\n",
        "  print(\"Test case \",a,\":\")\n",
        "  print(tests[a])\n",
        "  print(weed_removal_and_path(tests[a]))\n",
        "  print(\"---------\")"
      ],
      "metadata": {
        "id": "vZXWurIjxGdF",
        "colab": {
          "base_uri": "https://localhost:8080/"
        },
        "outputId": "343e84dc-9075-4538-eb1f-a0af2ca51a20"
      },
      "execution_count": 327,
      "outputs": [
        {
          "output_type": "stream",
          "name": "stdout",
          "text": [
            "Test case  0 :\n",
            "[]\n",
            "Warning, wrong input\n",
            "[]\n",
            "---------\n",
            "Test case  1 :\n",
            "[]\n",
            "Warning, wrong input\n",
            "[]\n",
            "---------\n",
            "Test case  2 :\n",
            "[[0]]\n",
            "[(1, 1)]\n",
            "---------\n",
            "Test case  3 :\n",
            "[[0 0 0 0 0 0]\n",
            " [0 0 0 0 0 0]\n",
            " [0 0 0 0 0 0]\n",
            " [0 0 0 0 0 0]\n",
            " [0 0 0 0 0 0]\n",
            " [0 0 0 0 0 0]]\n",
            "[(1, 1), (2, 1), (3, 1), (4, 1), (5, 1), (6, 1), (6, 2), (6, 3), (6, 4), (6, 5), (6, 6)]\n",
            "---------\n",
            "Test case  4 :\n",
            "[[1 1 1 1 1 1]\n",
            " [1 1 1 1 1 1]\n",
            " [1 1 1 1 1 1]\n",
            " [1 1 1 1 1 1]\n",
            " [1 1 1 1 1 1]\n",
            " [1 1 1 1 1 1]]\n",
            "[(1, 1), (2, 1), (3, 1), (4, 1), (5, 1), (6, 1), (6, 2), (6, 3), (6, 4), (6, 5), (6, 6)]\n",
            "---------\n",
            "Test case  5 :\n",
            "[[1 0 0 1 0 1]\n",
            " [1 0 0 1 1 1]\n",
            " [1 0 1 1 1 1]\n",
            " [1 0 1 1 1 1]\n",
            " [1 1 0 0 0 0]\n",
            " [1 0 0 1 0 1]]\n",
            "[(1, 1), (2, 1), (3, 1), (4, 1), (4, 2), (4, 3), (4, 4), (4, 5), (4, 6), (5, 6), (6, 6)]\n",
            "---------\n",
            "Test case  6 :\n",
            "[[1 1 1]\n",
            " [0 0 1]\n",
            " [0 0 1]]\n",
            "[(1, 1), (1, 2), (1, 3), (2, 3), (3, 3)]\n",
            "---------\n",
            "Test case  7 :\n",
            "[[1 0 0]\n",
            " [1 0 0]\n",
            " [1 1 1]]\n",
            "[(1, 1), (2, 1), (3, 1), (3, 2), (3, 3)]\n",
            "---------\n",
            "Test case  8 :\n",
            "[[0 0 0]\n",
            " [0 1 0]\n",
            " [0 0 0]]\n",
            "[(1, 1), (2, 1), (2, 2), (3, 2), (3, 3)]\n",
            "---------\n",
            "Test case  9 :\n",
            "[[1 1 0 0 0 0]\n",
            " [1 0 1 1 1 1]\n",
            " [1 0 0 1 0 0]\n",
            " [0 1 0 0 1 0]\n",
            " [0 0 0 1 1 0]\n",
            " [0 1 0 0 0 1]]\n",
            "[(1, 1), (2, 1), (2, 2), (2, 3), (2, 4), (3, 4), (4, 4), (5, 4), (5, 5), (6, 5), (6, 6)]\n",
            "---------\n",
            "Test case  10 :\n",
            "[[0 0 0 ... 0 0 1]\n",
            " [1 0 0 ... 1 0 0]\n",
            " [1 0 1 ... 1 0 0]\n",
            " ...\n",
            " [1 0 1 ... 1 0 1]\n",
            " [0 0 1 ... 1 0 1]\n",
            " [1 0 0 ... 0 1 0]]\n",
            "[(1, 1), (2, 1), (3, 1), (4, 1), (4, 2), (5, 2), (6, 2), (7, 2), (7, 3), (8, 3), (8, 4), (9, 4), (10, 4), (10, 5), (10, 6), (10, 7), (10, 8), (10, 9), (10, 10), (11, 10), (12, 10), (12, 11), (12, 12), (12, 13), (12, 14), (13, 14), (14, 14), (15, 14), (15, 15), (16, 15), (17, 15), (17, 16), (18, 16), (18, 17), (19, 17), (19, 18), (20, 18), (21, 18), (22, 18), (23, 18), (23, 19), (24, 19), (25, 19), (26, 19), (27, 19), (27, 20), (28, 20), (28, 21), (28, 22), (29, 22), (30, 22), (31, 22), (32, 22), (33, 22), (33, 23), (33, 24), (33, 25), (33, 26), (33, 27), (33, 28), (33, 29), (33, 30), (33, 31), (33, 32), (34, 32), (35, 32), (36, 32), (37, 32), (37, 33), (37, 34), (38, 34), (39, 34), (40, 34), (41, 34), (42, 34), (42, 35), (43, 35), (44, 35), (45, 35), (46, 35), (47, 35), (48, 35), (49, 35), (50, 35), (50, 36), (51, 36), (51, 37), (51, 38), (52, 38), (53, 38), (53, 39), (54, 39), (55, 39), (56, 39), (56, 40), (56, 41), (56, 42), (57, 42), (58, 42), (59, 42), (59, 43), (60, 43), (61, 43), (62, 43), (63, 43), (63, 44), (64, 44), (65, 44), (66, 44), (67, 44), (67, 45), (67, 46), (67, 47), (67, 48), (67, 49), (67, 50), (67, 51), (67, 52), (67, 53), (67, 54), (67, 55), (68, 55), (69, 55), (70, 55), (70, 56), (70, 57), (71, 57), (71, 58), (71, 59), (71, 60), (71, 61), (71, 62), (71, 63), (71, 64), (71, 65), (71, 66), (71, 67), (71, 68), (71, 69), (71, 70), (71, 71), (72, 71), (73, 71), (73, 72), (73, 73), (74, 73), (75, 73), (76, 73), (76, 74), (76, 75), (76, 76), (76, 77), (76, 78), (76, 79), (76, 80), (76, 81), (77, 81), (78, 81), (79, 81), (79, 82), (79, 83), (79, 84), (80, 84), (81, 84), (81, 85), (82, 85), (82, 86), (82, 87), (83, 87), (84, 87), (85, 87), (86, 87), (87, 87), (88, 87), (89, 87), (90, 87), (91, 87), (92, 87), (92, 88), (93, 88), (93, 89), (93, 90), (93, 91), (94, 91), (94, 92), (94, 93), (94, 94), (95, 94), (95, 95), (95, 96), (96, 96), (96, 97), (97, 97), (98, 97), (98, 98), (99, 98), (100, 98), (100, 99), (100, 100)]\n",
            "---------\n",
            "Test case  11 :\n",
            "[[1 0 0 0 0 0]\n",
            " [0 1 0 0 0 0]\n",
            " [1 0 0 1 0 0]\n",
            " [0 1 0 0 1 0]\n",
            " [0 0 0 1 1 0]\n",
            " [0 0 0 0 0 1]]\n",
            "[(1, 1), (2, 1), (3, 1), (4, 1), (4, 2), (5, 2), (5, 3), (5, 4), (5, 5), (6, 5), (6, 6)]\n",
            "---------\n"
          ]
        }
      ]
    },
    {
      "cell_type": "markdown",
      "source": [
        "(C) PERFORMANCE SUIT 1 (comparison of time/n):\n",
        "\n",
        "(In performance suit 1 it is assumed that n=m for better recognition of relation between n (and m) and running time)."
      ],
      "metadata": {
        "id": "7Je33DFFlltw"
      }
    },
    {
      "cell_type": "code",
      "source": [
        "case1timings = []\n",
        "case2timings = []\n",
        "case3timings = []\n",
        "case4timings = []\n",
        "case5timings = []\n",
        "case6timings = []\n",
        "case7timings = []\n",
        "\n",
        "\n",
        "def timer(sample,arr):\n",
        "  start_time = time.time_ns() \n",
        "  samplerunning = weed_removal_and_path(sample)\n",
        "  finished_time=time.time_ns()\n",
        "  total_time = (finished_time-start_time) / (10 ** 9)\n",
        "  arr.append(total_time)\n",
        "\n",
        "#generating 5 random matrices of n=m=100:\n",
        "for x in range(5):\n",
        "  sample1 = np.random.randint(2, size=(100,100)) #square\n",
        "  timer(sample1,case1timings)\n",
        "\n",
        "#generating 5 random matrices of n=m=200:\n",
        "for x in range(5):\n",
        "  sample1 = np.random.randint(2,size=(200,200))   #square\n",
        "  timer(sample1,case2timings)\n",
        "\n",
        "#generating 5 random matrices of n=m=300:\n",
        "for x in range(5):\n",
        "  sample1 = np.random.randint(2,size=(300,300))   #square\n",
        "  timer(sample1,case3timings)\n",
        "\n",
        "\n",
        "#generating 5 random matrices of n=m=400:\n",
        "for x in range(5):\n",
        "  sample1 = np.random.randint(2, size=(400,400))  #square\n",
        "  timer(sample1,case4timings)\n",
        "\n",
        "\n",
        "#generating 5 random matrices of n=m=500:\n",
        "for x in range(5):\n",
        "  sample1 = np.random.randint(2,size=(500,500))   #near square\n",
        "  timer(sample1,case5timings)\n",
        "\n",
        "#generating 5 random matrices of n=m=600:\n",
        "for x in range(5):\n",
        "  sample1 = np.random.randint(2, size=(600,600))  #square\n",
        "  timer(sample1,case6timings)\n",
        "\n",
        "#generating 5 random matrices of n=m=700:\n",
        "for x in range(5):\n",
        "  sample1 = np.random.randint(2,size=(700,700))   #near square\n",
        "  timer(sample1,case7timings)\n",
        "\n",
        "print(\"n=m=100 ->  Mean: \",mean(case1timings), \" Std. Dev.: \", pstdev(case1timings))\n",
        "print(\"n=m=200 ->  Mean: \",mean(case2timings), \" Std. Dev.: \", pstdev(case2timings))\n",
        "print(\"n=m=300 ->  Mean: \",mean(case3timings), \" Std. Dev.: \", pstdev(case3timings))\n",
        "print(\"n=m=400 ->  Mean: \",mean(case4timings), \" Std. Dev.: \", pstdev(case4timings))\n",
        "print(\"n=m=500 ->  Mean: \",mean(case5timings), \" Std. Dev.: \", pstdev(case5timings))\n",
        "print(\"n=m=600 ->  Mean: \",mean(case6timings), \" Std. Dev.: \", pstdev(case6timings))\n",
        "print(\"n=m=700 ->  Mean: \",mean(case7timings), \" Std. Dev.: \", pstdev(case7timings))\n",
        "\n",
        "meantimes = []\n",
        "meantimes.append(mean(case1timings))\n",
        "meantimes.append(mean(case2timings))\n",
        "meantimes.append(mean(case3timings))\n",
        "meantimes.append(mean(case4timings))\n",
        "meantimes.append(mean(case5timings))\n",
        "meantimes.append(mean(case6timings))\n",
        "meantimes.append(mean(case7timings))\n",
        "\n",
        "stdtimes = []\n",
        "stdtimes.append(pstdev(case1timings))\n",
        "stdtimes.append(pstdev(case2timings))\n",
        "stdtimes.append(pstdev(case3timings))\n",
        "stdtimes.append(pstdev(case4timings))\n",
        "stdtimes.append(pstdev(case5timings))\n",
        "stdtimes.append(pstdev(case6timings))\n",
        "stdtimes.append(pstdev(case7timings))\n",
        "\n",
        "n = [100,200,300,400,500,600,700]\n",
        "\n",
        "plt.title(\"Running times of Algorithm\")\n",
        "plt.plot(n, stdtimes, label = \"Std. Dev. of running time\")\n",
        "\n",
        "plt.plot(n, meantimes, label = \"Mean of running time\")\n",
        "plt.xlabel(\"n value (n=m)\")\n",
        "plt.ylabel(\"time (seconds)\")\n",
        "plt.legend()\n",
        "plt.show()"
      ],
      "metadata": {
        "colab": {
          "base_uri": "https://localhost:8080/",
          "height": 417
        },
        "id": "mKPMLNHlllPr",
        "outputId": "6893f290-75cb-41fb-ca9a-e78386572ea9"
      },
      "execution_count": 328,
      "outputs": [
        {
          "output_type": "stream",
          "name": "stdout",
          "text": [
            "n=m=100 ->  Mean:  0.0107921362  Std. Dev.:  0.0003085870230534002\n",
            "n=m=200 ->  Mean:  0.0436807084  Std. Dev.:  0.000938094625196329\n",
            "n=m=300 ->  Mean:  0.0993904056  Std. Dev.:  0.00319851903937673\n",
            "n=m=400 ->  Mean:  0.1778414106  Std. Dev.:  0.007126114101768356\n",
            "n=m=500 ->  Mean:  0.2718358572  Std. Dev.:  0.007213766052176667\n",
            "n=m=600 ->  Mean:  0.4001884272  Std. Dev.:  0.009646553613134852\n",
            "n=m=700 ->  Mean:  0.5275362642  Std. Dev.:  0.007905817818138665\n"
          ]
        },
        {
          "output_type": "display_data",
          "data": {
            "text/plain": [
              "<Figure size 432x288 with 1 Axes>"
            ],
            "image/png": "[encoded data removed]"
          },
          "metadata": {
            "needs_background": "light"
          }
        }
      ]
    },
    {
      "cell_type": "markdown",
      "source": [
        "Here I will scatter the data and fit a line for the mean values :)"
      ],
      "metadata": {
        "id": "GzJkJ5kwsYKx"
      }
    },
    {
      "cell_type": "code",
      "source": [
        "plt.figure(figsize=(25,5))\n",
        "plt.subplot(132)\n",
        "plt.title(\"Scattered plot of mean of Algorithm and fitted line\")\n",
        "plt.scatter(n, meantimes , label = \"Mean running time\")\n",
        "plt.xlabel(\"n value (n=m)\")\n",
        "plt.ylabel(\"time (seconds)\")\n",
        "x=np.array([100,200,300,400,500,600,700])\n",
        "y = np.array(meantimes)\n",
        "a, b = np.polyfit(x, y, 1)\n",
        "plt.plot(x, a*x+b, color='steelblue', linestyle='--', linewidth=2)\n",
        "plt.subplot(133)\n",
        "plt.plot(n,meantimes,linewidth=2.5)\n",
        "plt.xlabel(\"n value (n=m)\")\n",
        "plt.ylabel(\"time (seconds)\")\n",
        "\n",
        "plt.legend()\n",
        "plt.show()"
      ],
      "metadata": {
        "colab": {
          "base_uri": "https://localhost:8080/",
          "height": 367
        },
        "id": "LE1FRpacsfKS",
        "outputId": "97de4dac-6348-4ec0-8be6-86b7e5995d02"
      },
      "execution_count": 329,
      "outputs": [
        {
          "output_type": "stream",
          "name": "stderr",
          "text": [
            "WARNING:matplotlib.legend:No handles with labels found to put in legend.\n"
          ]
        },
        {
          "output_type": "display_data",
          "data": {
            "text/plain": [
              "<Figure size 1800x360 with 2 Axes>"
            ],
            "image/png": "[encoded data removed]"
          },
          "metadata": {
            "needs_background": "light"
          }
        }
      ]
    },
    {
      "cell_type": "markdown",
      "source": [
        "Using log comparison: "
      ],
      "metadata": {
        "id": "PifXpZ5HuTxE"
      }
    },
    {
      "cell_type": "code",
      "source": [
        "fig = plt.figure()\n",
        "x=np.array([100,200,300,400,500,600,700])\n",
        "y = np.array(meantimes)\n",
        "plt.title(\"Scattered plot of mean of logarithmic scale\")\n",
        "plt.xlabel(\"log of n value (n=m)\")\n",
        "plt.ylabel(\"time (seems negative because 0<runningtime<1\")\n",
        "logx=np.log(x)\n",
        "logy=np.log(y)\n",
        "\n",
        "a, b = np.polyfit(logx, logy, 1)\n",
        "plt.scatter(logx, logy, color='purple')\n",
        "plt.plot(logx, a*logx+b, color='steelblue', linestyle='--', linewidth=2)\n",
        "\n"
      ],
      "metadata": {
        "colab": {
          "base_uri": "https://localhost:8080/",
          "height": 312
        },
        "id": "34JF4zHBucMy",
        "outputId": "bac99508-79b0-4ce5-bce0-1b76508a481f"
      },
      "execution_count": 330,
      "outputs": [
        {
          "output_type": "execute_result",
          "data": {
            "text/plain": [
              "[<matplotlib.lines.Line2D at 0x7fd8cdee87f0>]"
            ]
          },
          "metadata": {},
          "execution_count": 330
        },
        {
          "output_type": "display_data",
          "data": {
            "text/plain": [
              "<Figure size 432x288 with 1 Axes>"
            ],
            "image/png": "[encoded data removed]"
          },
          "metadata": {
            "needs_background": "light"
          }
        }
      ]
    },
    {
      "cell_type": "markdown",
      "source": [
        "(c) CENTRAL LIMITING THEOREM\n",
        "\n",
        "(The table wasn't available on sucourse so I calculated only the estimated standard error)\n"
      ],
      "metadata": {
        "id": "F1iqshIfu-p6"
      }
    },
    {
      "cell_type": "code",
      "source": [
        "for a in range(len(x)):\n",
        "  print(\"For n=m=\",x[a], \" estimated standard error is :\")\n",
        "  sm = stdtimes[a]/2.153\n",
        "  print(sm)\n",
        "  print(\"----\")"
      ],
      "metadata": {
        "colab": {
          "base_uri": "https://localhost:8080/"
        },
        "id": "Ddwv_mKCu-Eb",
        "outputId": "507dc83f-477f-4818-faf3-b3d86d0ed569"
      },
      "execution_count": 331,
      "outputs": [
        {
          "output_type": "stream",
          "name": "stdout",
          "text": [
            "For n=m= 100  estimated standard error is :\n",
            "0.00014332885418179295\n",
            "----\n",
            "For n=m= 200  estimated standard error is :\n",
            "0.0004357151069188708\n",
            "----\n",
            "For n=m= 300  estimated standard error is :\n",
            "0.0014856103294829215\n",
            "----\n",
            "For n=m= 400  estimated standard error is :\n",
            "0.003309853275322042\n",
            "----\n",
            "For n=m= 500  estimated standard error is :\n",
            "0.0033505648175460602\n",
            "----\n",
            "For n=m= 600  estimated standard error is :\n",
            "0.004480517237870345\n",
            "----\n",
            "For n=m= 700  estimated standard error is :\n",
            "0.003672000844467564\n",
            "----\n"
          ]
        }
      ]
    },
    {
      "cell_type": "markdown",
      "source": [
        "(C) PERFORMANCE SUIT 2 ( comparison of time/matrix size) :\n",
        "\n",
        "The matrix dimensions might not be equal. Here, it is similar to Performance suit 1, but the difference is I considered 3 shape/dimension cases for every matrix (very long, near square, wide) since the matrices given might not be always equal. In this case, comparison with size(n*m) is possible but unlike suit 1, it is not possible to compare the running time with only n or m since they may also vary.\n",
        "\n",
        "\n",
        "\n"
      ],
      "metadata": {
        "id": "BD76kgyvSwEM"
      }
    },
    {
      "cell_type": "code",
      "source": [
        "case1timings = []\n",
        "case2timings = []\n",
        "case3timings = []\n",
        "case4timings = []\n",
        "case5timings = []\n",
        "case6timings = []\n",
        "case7timings = []\n",
        "case8timings = []\n",
        "\n",
        "def timer(sample,arr):\n",
        "  start_time = time.time_ns() \n",
        "  samplerunning = weed_removal_and_path(sample)\n",
        "  finished_time=time.time_ns()\n",
        "  total_time = (finished_time-start_time) / (10 ** 9)\n",
        "  arr.append(total_time)\n",
        "\n",
        "#generating 15 random matrices of size 10000 (n*m = 10000):\n",
        "for x in range(5):\n",
        "  sample1 = np.random.randint(2, size=(1,10000)) #long\n",
        "  sample2 = np.random.randint(2, size=(100,100)) #near square\n",
        "  sample3 = np.random.randint(2,size=(250,40)) #wide\n",
        "  timer(sample1,case1timings)\n",
        "  timer(sample2,case1timings)\n",
        "  timer(sample3,case1timings)\n",
        "\n",
        "#generating 15 random matrices of size 20000 (n*m = 20000):\n",
        "for x in range(5):\n",
        "  sample1 = np.random.randint(2, size=(1,20000))  #long\n",
        "  sample2 = np.random.randint(2,size=(100,200))   #near square\n",
        "  sample3 = np.random.randint(2, size=(250,80))  #wide\n",
        "  timer(sample1,case2timings)\n",
        "  timer(sample3,case2timings)\n",
        "  timer(sample2,case2timings)\n",
        "\n",
        "#generating 15 random matrices of size 30000 (n*m = 30000):\n",
        "for x in range(5):\n",
        "  sample1 = np.random.randint(2, size=(1,30000))  #long\n",
        "  sample2 = np.random.randint(2,size=(150,200))   #near square\n",
        "  sample3 = np.random.randint(2, size=(300,100))  #wide\n",
        "  timer(sample1,case3timings)\n",
        "  timer(sample2,case3timings)\n",
        "  timer(sample3,case3timings)\n",
        "\n",
        "\n",
        "#generating 15 random matrices of size 40000 (n*m = 40000):\n",
        "for x in range(5):\n",
        "  sample1 = np.random.randint(2, size=(1,40000))  #long\n",
        "  sample2 = np.random.randint(2,size=(200,200))   #near square\n",
        "  sample3 = np.random.randint(2, size=(250,160))  #wide\n",
        "  timer(sample1,case4timings)\n",
        "  timer(sample2,case4timings)\n",
        "  timer(sample3,case4timings)\n",
        "\n",
        "\n",
        "#generating 15 random matrices of size 50000 (n*m = 50000):\n",
        "for x in range(5):\n",
        "  sample1 = np.random.randint(2, size=(1,50000))  #long\n",
        "  sample2 = np.random.randint(2,size=(250,200))   #near square\n",
        "  sample3 = np.random.randint(2, size=(40,1250))  #wide\n",
        "  timer(sample1,case5timings)\n",
        "  timer(sample2,case5timings)\n",
        "  timer(sample3,case5timings)\n",
        "\n",
        "#generating 15 random matrices of size 100000 (n*m = 100000):\n",
        "for x in range(5):\n",
        "  sample1 = np.random.randint(2, size=(1,100000))  #long\n",
        "  sample2 = np.random.randint(2,size=(250,400))   #near square\n",
        "  sample3 = np.random.randint(2, size=(80,1250))  #wide\n",
        "  timer(sample1,case6timings)\n",
        "  timer(sample2,case6timings)\n",
        "  timer(sample3,case6timings)\n",
        "\n",
        "#generating 15 random matrices of size 150000 (n*m = 150000):\n",
        "for x in range(5):\n",
        "  sample1 = np.random.randint(2, size=(1,150000))  #long\n",
        "  sample2 = np.random.randint(2,size=(300,500))   #near square\n",
        "  sample3 = np.random.randint(2, size=(150,1000))  #wide\n",
        "  timer(sample1,case7timings)\n",
        "  timer(sample2,case7timings)\n",
        "  timer(sample3,case7timings)\n",
        "\n",
        "#generating 15 random matrices of size 200000 (n*m = 100000):\n",
        "for x in range(5):\n",
        "  sample1 = np.random.randint(2, size=(1,200000))  #long\n",
        "  sample2 = np.random.randint(2,size=(500,400))   #near square\n",
        "  sample3 = np.random.randint(2, size=(160,1250))  #wide\n",
        "  timer(sample1,case8timings)\n",
        "  timer(sample2,case8timings)\n",
        "  timer(sample3,case8timings)\n",
        "\n",
        "print(\"Size:10000 ->  Mean: \",mean(case1timings), \" Std. Dev.: \", pstdev(case1timings))\n",
        "print(\"Size:20000 ->  Mean: \",mean(case2timings), \" Std. Dev.: \", pstdev(case2timings))\n",
        "print(\"Size:30000 ->  Mean: \",mean(case3timings), \" Std. Dev.: \", pstdev(case3timings))\n",
        "print(\"Size:40000 ->  Mean: \",mean(case4timings), \" Std. Dev.: \", pstdev(case4timings))\n",
        "print(\"Size:50000 ->  Mean: \",mean(case5timings), \" Std. Dev.: \", pstdev(case5timings))\n",
        "print(\"Size:100000 ->  Mean: \",mean(case6timings), \" Std. Dev.: \", pstdev(case6timings))\n",
        "print(\"Size:150000 ->  Mean: \",mean(case7timings), \" Std. Dev.: \", pstdev(case7timings))\n",
        "print(\"Size:200000 ->  Mean: \",mean(case8timings), \" Std. Dev.: \", pstdev(case7timings))\n",
        "\n",
        "meantimes = []\n",
        "meantimes.append(mean(case1timings))\n",
        "meantimes.append(mean(case2timings))\n",
        "meantimes.append(mean(case3timings))\n",
        "meantimes.append(mean(case4timings))\n",
        "meantimes.append(mean(case5timings))\n",
        "meantimes.append(mean(case6timings))\n",
        "meantimes.append(mean(case7timings))\n",
        "meantimes.append(mean(case8timings))\n",
        "\n",
        "stdtimes = []\n",
        "stdtimes.append(pstdev(case1timings))\n",
        "stdtimes.append(pstdev(case2timings))\n",
        "stdtimes.append(pstdev(case3timings))\n",
        "stdtimes.append(pstdev(case4timings))\n",
        "stdtimes.append(pstdev(case5timings))\n",
        "stdtimes.append(pstdev(case6timings))\n",
        "stdtimes.append(pstdev(case7timings))\n",
        "stdtimes.append(pstdev(case8timings))\n",
        "\n",
        "sizes = [10000,20000,30000,40000,50000,100000,150000,200000]\n",
        "\n",
        "\n",
        "plt.title(\"Running times of Algorithm\")\n",
        "plt.plot(sizes, meantimes, label = \"Std. Dev. of running time\")\n",
        "plt.plot(sizes, stdtimes, label = \"Mean of running time\")\n",
        "plt.xlabel(\"size (m*n)\")\n",
        "plt.ylabel(\"time (seconds)\")\n",
        "plt.legend()\n",
        "plt.show()"
      ],
      "metadata": {
        "id": "lU2PBOXbNWQa",
        "colab": {
          "base_uri": "https://localhost:8080/",
          "height": 434
        },
        "outputId": "62e7e63b-a576-4f0f-eb4a-c1bb2dd1456c"
      },
      "execution_count": 332,
      "outputs": [
        {
          "output_type": "stream",
          "name": "stdout",
          "text": [
            "Size:10000 ->  Mean:  0.01617144993333333  Std. Dev.:  0.007376186633808831\n",
            "Size:20000 ->  Mean:  0.04233021866666667  Std. Dev.:  0.028757337441263492\n",
            "Size:30000 ->  Mean:  0.07961541813333334  Std. Dev.:  0.06415481254188386\n",
            "Size:40000 ->  Mean:  0.12554114726666668  Std. Dev.:  0.1135835704936948\n",
            "Size:50000 ->  Mean:  0.18017802373333333  Std. Dev.:  0.18023775470992248\n",
            "Size:100000 ->  Mean:  0.6226756040666667  Std. Dev.:  0.7287678880102185\n",
            "Size:150000 ->  Mean:  1.3573394165333332  Std. Dev.:  1.6982612603210354\n",
            "Size:200000 ->  Mean:  2.5301145548  Std. Dev.:  1.6982612603210354\n"
          ]
        },
        {
          "output_type": "display_data",
          "data": {
            "text/plain": [
              "<Figure size 432x288 with 1 Axes>"
            ],
            "image/png": "[encoded data removed]"
          },
          "metadata": {
            "needs_background": "light"
          }
        }
      ]
    },
    {
      "cell_type": "code",
      "source": [
        "plt.figure(figsize=(25,5))\n",
        "plt.subplot(132)\n",
        "plt.title(\"Scattered plot of mean of running time and fitted line\")\n",
        "\n",
        "plt.xlabel(\"size (m*n)\")\n",
        "plt.ylabel(\"time (seconds)\")\n",
        "x=np.array([10000,20000,30000,40000,50000,100000,150000,200000])\n",
        "plt.scatter(x, meantimes , label = \"Mean running time\")\n",
        "y = np.array(meantimes)\n",
        "a, b = np.polyfit(x, y, 1)\n",
        "plt.plot(x, a*x+b, color='steelblue', linestyle='--', linewidth=2)\n",
        "plt.subplot(133)\n",
        "plt.plot(x,meantimes,linewidth=2.5)\n",
        "plt.xlabel(\"n*m value (size)\")\n",
        "plt.ylabel(\"time (seconds)\")\n",
        "\n",
        "plt.legend()\n",
        "plt.show()"
      ],
      "metadata": {
        "colab": {
          "base_uri": "https://localhost:8080/",
          "height": 367
        },
        "id": "-qr-U_Fw1ymO",
        "outputId": "d6af702b-47a3-4b65-9894-80f55616f771"
      },
      "execution_count": 333,
      "outputs": [
        {
          "output_type": "stream",
          "name": "stderr",
          "text": [
            "WARNING:matplotlib.legend:No handles with labels found to put in legend.\n"
          ]
        },
        {
          "output_type": "display_data",
          "data": {
            "text/plain": [
              "<Figure size 1800x360 with 2 Axes>"
            ],
            "image/png": "[encoded data removed]"
          },
          "metadata": {
            "needs_background": "light"
          }
        }
      ]
    },
    {
      "cell_type": "markdown",
      "source": [
        "And in logarithmic scale for y and x axis to see relation in a more linear way:"
      ],
      "metadata": {
        "id": "JmWCCqRfOl1o"
      }
    },
    {
      "cell_type": "code",
      "source": [
        "fig = plt.figure()\n",
        "plt.title(\"Scattered plot of mean of logarithmic scale\")\n",
        "plt.xlabel(\"log of size [log(n*m)]\")\n",
        "plt.ylabel(\"time (seems negative because 0<runningtime<1\")\n",
        "logx=np.log(x)\n",
        "logy=np.log(y)\n",
        "\n",
        "a, b = np.polyfit(logx, logy, 1)\n",
        "plt.scatter(logx, logy, color='purple')\n",
        "plt.plot(logx, a*logx+b, color='steelblue', linestyle='--', linewidth=2)"
      ],
      "metadata": {
        "colab": {
          "base_uri": "https://localhost:8080/",
          "height": 312
        },
        "id": "wxs28aX-GlgC",
        "outputId": "5100bc29-c638-4218-aaf6-634ec434890a"
      },
      "execution_count": 334,
      "outputs": [
        {
          "output_type": "execute_result",
          "data": {
            "text/plain": [
              "[<matplotlib.lines.Line2D at 0x7fd8ccd801f0>]"
            ]
          },
          "metadata": {},
          "execution_count": 334
        },
        {
          "output_type": "display_data",
          "data": {
            "text/plain": [
              "<Figure size 432x288 with 1 Axes>"
            ],
            "image/png": "[encoded data removed]"
          },
          "metadata": {
            "needs_background": "light"
          }
        }
      ]
    },
    {
      "cell_type": "markdown",
      "source": [
        "(c) CENTRAL LIMITING THEOREM\n",
        "\n",
        "(The table wasn't available on sucourse so I calculated only the estimated standard error)\n",
        "\n",
        "\n",
        "\n"
      ],
      "metadata": {
        "id": "Bru4lZl7tpT8"
      }
    },
    {
      "cell_type": "code",
      "source": [
        "for a in range(len(x)):\n",
        "  print(\"For n*m=\",x[a], \" estimated standard error is :\")\n",
        "  sm = stdtimes[a]/3.912\n",
        "  print(sm)\n",
        "  print(\"----\")\n"
      ],
      "metadata": {
        "colab": {
          "base_uri": "https://localhost:8080/"
        },
        "id": "6t7ya7rftoj7",
        "outputId": "f2ae4ee5-6378-4796-cc39-fc2bb500c5a2"
      },
      "execution_count": 335,
      "outputs": [
        {
          "output_type": "stream",
          "name": "stdout",
          "text": [
            "For n*m= 10000  estimated standard error is :\n",
            "0.0018855282806259793\n",
            "----\n",
            "For n*m= 20000  estimated standard error is :\n",
            "0.0073510576281348395\n",
            "----\n",
            "For n*m= 30000  estimated standard error is :\n",
            "0.01639949195855927\n",
            "----\n",
            "For n*m= 40000  estimated standard error is :\n",
            "0.029034655034175565\n",
            "----\n",
            "For n*m= 50000  estimated standard error is :\n",
            "0.046073045682495525\n",
            "----\n",
            "For n*m= 100000  estimated standard error is :\n",
            "0.1862903599208125\n",
            "----\n",
            "For n*m= 150000  estimated standard error is :\n",
            "0.4341158640902442\n",
            "----\n",
            "For n*m= 200000  estimated standard error is :\n",
            "0.838151422146439\n",
            "----\n"
          ]
        }
      ]
    },
    {
      "cell_type": "markdown",
      "source": [
        "**Final Comments:**\n",
        "Results of second part are accurate as part 1. As can be observed, my program can deal with unexpected inputs as well as extreme cases that were included in functional testing methods. In the performance evaluation suits part, there is a polynomial growth as observed in part 1 which also support my expectations. With very large input such as 200x200 matrices, the program can cope with because of memoization. If we would have a tried a naive method, the growth would be faster and probably we wouldn't be able to even calculate these instances. I believe that my dynamic programming algorithm has a good performance. Lastly, we can observe that with constant increase of input matrix size/ n, the growth is less significant compared to the constant multiplication of the input matrix / n."
      ],
      "metadata": {
        "id": "OahcDMMfvxqU"
      }
    }
  ]
}